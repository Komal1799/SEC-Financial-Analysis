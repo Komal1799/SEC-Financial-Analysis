{
 "cells": [
  {
   "cell_type": "code",
   "execution_count": 2,
   "metadata": {},
   "outputs": [],
   "source": [
    "from diagrams import Diagram, Cluster, Edge\n",
    "from diagrams.aws.storage import S3\n",
    "from diagrams.onprem.client import Users\n",
    "from diagrams.onprem.database import PostgreSQL\n",
    "from diagrams.programming.language import Python\n",
    "from diagrams.custom import Custom\n",
    "from diagrams.onprem.workflow import Airflow\n",
    "from diagrams.saas.analytics import Snowflake\n",
    "\n",
    "with Diagram(\"Fintech Data Processing Architecture\", show=False, direction=\"LR\"):\n",
    "    user = Users(\"Analyst\")\n",
    "    \n",
    "    with Cluster(\"Data Ingestion\"):\n",
    "        sec_scraper = Custom(\"BeautifulSoup Scraper\", \"./beautifulsoup.png\")\n",
    "        raw_storage = S3(\"Raw Staging\")\n",
    "        json_transformer = Custom(\"JSON Transformer\", \"./json_transformer.png\")\n",
    "            \n",
    "    with Cluster(\"Database & Processing\"):\n",
    "        snowflake_db = Snowflake(\"Snowflake DB\")\n",
    "        dbt = Custom(\"DBT\", \"./dbt.png\")\n",
    "        airflow = Airflow(\"Airflow Pipeline\")\n",
    "    \n",
    "    with Cluster(\"API & User Interface\"):\n",
    "        fastapi = Python(\"FastAPI Backend\")\n",
    "        streamlit_ui = Custom(\"Streamlit Dashboard\", \"./streamlit.png\")\n",
    "    \n",
    "    user >> streamlit_ui >> fastapi\n",
    "    fastapi >> snowflake_db\n",
    "    sec_scraper >> raw_storage\n",
    "    raw_storage >> json_transformer\n",
    "    json_transformer >> snowflake_db\n",
    "    snowflake_db >> dbt >> airflow\n",
    "    airflow >> snowflake_db"
   ]
  }
 ],
 "metadata": {
  "kernelspec": {
   "display_name": ".venv",
   "language": "python",
   "name": "python3"
  },
  "language_info": {
   "codemirror_mode": {
    "name": "ipython",
    "version": 3
   },
   "file_extension": ".py",
   "mimetype": "text/x-python",
   "name": "python",
   "nbconvert_exporter": "python",
   "pygments_lexer": "ipython3",
   "version": "3.13.1"
  }
 },
 "nbformat": 4,
 "nbformat_minor": 2
}
